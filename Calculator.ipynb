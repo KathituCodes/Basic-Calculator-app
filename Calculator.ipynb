{
  "cells": [
    {
      "cell_type": "markdown",
      "metadata": {
        "id": "view-in-github",
        "colab_type": "text"
      },
      "source": [
        "<a href=\"https://colab.research.google.com/github/KathituCodes/Basic-Calculator-app/blob/main/Calculator.ipynb\" target=\"_parent\"><img src=\"https://colab.research.google.com/assets/colab-badge.svg\" alt=\"Open In Colab\"/></a>"
      ]
    },
    {
      "cell_type": "markdown",
      "metadata": {
        "id": "lgpAb8Vlt3k6"
      },
      "source": [
        "# Objective\n",
        " To create a calculator app that can perform basic arithmetic operations.\n",
        "\n",
        "### **Description**:\n",
        "\n",
        "This exercise involves creating a simple calculator app using Python. The app should be able to perform addition, subtraction, multiplication, and division operations. It will prompt the user to input two numbers and an arithmetic operator, then perform the corresponding operation on the numbers and return the result.\n",
        "\n",
        "### **Example** :\n",
        "\n",
        "Input:\n",
        "\n",
        "- Enter the first number: 10\n",
        "\n",
        "- Enter the second number: 5\n",
        "\n",
        "- Enter the operator (+, -, *, /): *\n",
        "\n",
        "Output:\n",
        "\n",
        "- The result is: 50"
      ]
    },
    {
      "cell_type": "markdown",
      "source": [
        "# **Example 1**"
      ],
      "metadata": {
        "id": "hj1RtJPJuO8v"
      }
    },
    {
      "cell_type": "code",
      "execution_count": null,
      "metadata": {
        "colab": {
          "base_uri": "https://localhost:8080/"
        },
        "id": "MrfH3EqLtiaZ",
        "outputId": "040a08a2-feb6-4be4-f992-4720cbf61d2a"
      },
      "outputs": [
        {
          "output_type": "stream",
          "name": "stdout",
          "text": [
            "Enter the first number: 67\n",
            "dict_keys(['+', '-', '*', '/'])\n",
            "Pick an operation /\n",
            "Enter the second number: 7\n",
            "67.0 / 7.0 = 9.571428571428571\n",
            "The result is: 9.571428571428571\n",
            "Do you wish to continue ('y/n'): Y\n",
            "dict_keys(['+', '-', '*', '/'])\n",
            "Pick an operation *\n",
            "Enter the second number: 56\n",
            "9.571428571428571 * 56.0 = 536.0\n",
            "The result is: 536.0\n",
            "Do you wish to continue ('y/n'): N\n",
            "Exiting the calculator.\n"
          ]
        }
      ],
      "source": [
        "def add(num1, num2):\n",
        "  return (num1 + num2)\n",
        "\n",
        "def subtract(num1, num2):\n",
        "  return (num1 - num2)\n",
        "\n",
        "def multiply(num1, num2):\n",
        "  return (num1 * num2)\n",
        "\n",
        "def divide(num1, num2):\n",
        "  if num2 == 0:\n",
        "    return \"Division by zero is not allowed\"\n",
        "  else:\n",
        "    return (num1 / num2)\n",
        "\n",
        "operations = {'+':add, '-':subtract, '*':multiply, '/':divide}\n",
        "\n",
        "def calculator():\n",
        "  while True:\n",
        "      num1 = float(input(\"Enter the first number: \"))\n",
        "      for keys in operations:\n",
        "          print(operations.keys())\n",
        "          operation_symbol = input(\"Pick an operation \")\n",
        "          num2 = float(input(\"Enter the second number: \"))\n",
        "          calculation_function = operations[operation_symbol]\n",
        "          answer = calculation_function(num1, num2)\n",
        "          print(f\"{num1} {operation_symbol} {num2} = {answer}\")\n",
        "          num1 = answer\n",
        "          print(f\"The result is: {answer}\")\n",
        "          continue_calc = input(\"Do you wish to continue ('y/n'): \").lower()\n",
        "          if continue_calc == 'n':\n",
        "                print(\"Exiting the calculator.\")\n",
        "                return  # Exit the function entirely\n",
        "          elif continue_calc == 'y':\n",
        "                continue\n",
        "          else:\n",
        "                print(\"Invalid input. Please type 'y' or 'n'.\")\n",
        "\n",
        "calculator()"
      ]
    },
    {
      "cell_type": "markdown",
      "source": [
        "# **Example 2 (updated)**"
      ],
      "metadata": {
        "id": "P2F_gd1VuTNp"
      }
    },
    {
      "cell_type": "code",
      "source": [
        "def calculator():\n",
        "    operations = {'+': 'addition', '-': 'subtraction', '*': 'multiplication', '/': 'division'}\n",
        "\n",
        "    while True:\n",
        "        # Ask for the first number\n",
        "        first_number = float(input(\"Enter the first number: \"))\n",
        "\n",
        "        while True:\n",
        "           # print(\"Available operations:\", operations.keys())\n",
        "            operation = input(\"Pick an operation (+, -, *, /): \").strip()\n",
        "\n",
        "            if operation not in operations:\n",
        "                print(\"Invalid operation. Please try again.\")\n",
        "                continue\n",
        "\n",
        "            # Ask for the second number\n",
        "            second_number = float(input(\"Enter the second number: \"))\n",
        "\n",
        "            # Perform the operation\n",
        "            if operation == '+':\n",
        "                result = first_number + second_number\n",
        "            elif operation == '-':\n",
        "                result = first_number - second_number\n",
        "            elif operation == '*':\n",
        "                result = first_number * second_number\n",
        "            elif operation == '/':\n",
        "                if second_number == 0:\n",
        "                    print(\"Error: Division by zero is not allowed.\")\n",
        "                    continue\n",
        "                result = first_number / second_number\n",
        "\n",
        "\n",
        "            # Display the result\n",
        "            print(f\"{first_number} {operation} {second_number} = {result}\")\n",
        "            first_number = result  # Reuse the result as the new first number\n",
        "\n",
        "            # Print a separator before each new operation\n",
        "            print(\"\\n\" + \"-\" * 26 + \"\\n\")\n",
        "\n",
        "            # Ask if the user wants to continue\n",
        "            choice = input(\"Do you wish to continue ('yes/no')? \").lower().strip()\n",
        "            if choice == 'no':\n",
        "                break\n",
        "\n",
        "        # Ask if the user wants to start over\n",
        "        restart = input(\"Do you want to start a new calculation ('yes/no')? \").lower().strip()\n",
        "        if restart == 'no':\n",
        "            print(\"Goodbye!\")\n",
        "            break\n",
        "\n",
        "# Uncomment below to test the function in an actual Python environment.\n",
        "calculator()\n"
      ],
      "metadata": {
        "colab": {
          "base_uri": "https://localhost:8080/"
        },
        "id": "UFAKI08UrqWG",
        "outputId": "9a0f18ba-4a80-4e11-89e7-669f6ffc6ce8"
      },
      "execution_count": null,
      "outputs": [
        {
          "output_type": "stream",
          "name": "stdout",
          "text": [
            "Enter the first number: 25\n",
            "Pick an operation (+, -, *, /): -\n",
            "Enter the second number: 23\n",
            "25.0 - 23.0 = 2.0\n",
            "\n",
            "--------------------------\n",
            "\n",
            "Do you wish to continue ('yes/no')? no\n",
            "Do you want to start a new calculation ('yes/no')? yes\n",
            "Enter the first number: 6.7\n",
            "Pick an operation (+, -, *, /): /\n",
            "Enter the second number: 0\n",
            "Error: Division by zero is not allowed.\n",
            "Pick an operation (+, -, *, /): -\n",
            "Enter the second number: 34\n",
            "6.7 - 34.0 = -27.3\n",
            "\n",
            "--------------------------\n",
            "\n",
            "Do you wish to continue ('yes/no')? no\n",
            "Do you want to start a new calculation ('yes/no')? no\n",
            "Goodbye!\n"
          ]
        }
      ]
    },
    {
      "cell_type": "code",
      "source": [],
      "metadata": {
        "id": "eBJ2MZVT6Vb3"
      },
      "execution_count": null,
      "outputs": []
    }
  ],
  "metadata": {
    "colab": {
      "provenance": [],
      "include_colab_link": true
    },
    "kernelspec": {
      "display_name": "Python 3",
      "name": "python3"
    },
    "language_info": {
      "name": "python"
    }
  },
  "nbformat": 4,
  "nbformat_minor": 0
}