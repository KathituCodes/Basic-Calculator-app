{
  "nbformat": 4,
  "nbformat_minor": 0,
  "metadata": {
    "colab": {
      "provenance": [],
      "authorship_tag": "ABX9TyOxyANT2SCtC/i6VzzF6b9J",
      "include_colab_link": true
    },
    "kernelspec": {
      "name": "python3",
      "display_name": "Python 3"
    },
    "language_info": {
      "name": "python"
    }
  },
  "cells": [
    {
      "cell_type": "markdown",
      "metadata": {
        "id": "view-in-github",
        "colab_type": "text"
      },
      "source": [
        "<a href=\"https://colab.research.google.com/github/KathituCodes/Basic-Calculator-app/blob/main/Built_for_streamlit_Deployment.ipynb\" target=\"_parent\"><img src=\"https://colab.research.google.com/assets/colab-badge.svg\" alt=\"Open In Colab\"/></a>"
      ]
    },
    {
      "cell_type": "code",
      "execution_count": null,
      "metadata": {
        "id": "4-k_RegDmAUj"
      },
      "outputs": [],
      "source": [
        "import streamlit as st\n",
        "\n",
        "def calculator():\n",
        "    st.title(\"Simple Calculator\")\n",
        "\n",
        "    # Initialize session state\n",
        "    if 'result' not in st.session_state:\n",
        "        st.session_state.result = 0\n",
        "        st.session_state.first_number = 0\n",
        "\n",
        "    # Input fields\n",
        "    col1, col2, col3 = st.columns(3)\n",
        "    with col1:\n",
        "        first_number = st.number_input(\"First number\", value=st.session_state.first_number)\n",
        "    with col2:\n",
        "        operation = st.selectbox(\"Operation\", ['+', '-', '*', '/'])\n",
        "    with col3:\n",
        "        second_number = st.number_input(\"Second number\", value=0.0)\n",
        "\n",
        "    # Calculate button\n",
        "    if st.button(\"Calculate\"):\n",
        "        if operation == '+':\n",
        "            st.session_state.result = first_number + second_number\n",
        "        elif operation == '-':\n",
        "            st.session_state.result = first_number - second_number\n",
        "        elif operation == '*':\n",
        "            st.session_state.result = first_number * second_number\n",
        "        elif operation == '/':\n",
        "            if second_number == 0:\n",
        "                st.error(\"Division by zero not allowed\")\n",
        "                return\n",
        "            st.session_state.result = first_number / second_number\n",
        "\n",
        "        # Update first_number for next calculation\n",
        "        st.session_state.first_number = st.session_state.result\n",
        "\n",
        "    # Display result\n",
        "    st.write(f\"Result: {first_number} {operation} {second_number} = {st.session_state.result}\")\n",
        "\n",
        "    # Reset button\n",
        "    if st.button(\"Reset\"):\n",
        "        st.session_state.result = 0\n",
        "        st.session_state.first_number = 0\n",
        "\n",
        "if __name__ == \"__main__\":\n",
        "    calculator()"
      ]
    }
  ]
}